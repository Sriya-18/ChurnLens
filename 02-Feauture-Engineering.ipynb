{
 "cells": [
  {
   "cell_type": "code",
   "execution_count": 1,
   "id": "cf34fbf9-b2d6-4e1b-8d00-869460a5cac2",
   "metadata": {},
   "outputs": [
    {
     "name": "stdout",
     "output_type": "stream",
     "text": [
      "Rows before/after outlier removal: 500 → 493\n",
      "✅ Saved feature files to data/features/\n"
     ]
    },
    {
     "name": "stderr",
     "output_type": "stream",
     "text": [
      "/var/folders/ck/8xhw9xgd6pd_2d5tm1g9_jhw0000gn/T/ipykernel_47819/2432409207.py:65: SettingWithCopyWarning: \n",
      "A value is trying to be set on a copy of a slice from a DataFrame.\n",
      "Try using .loc[row_indexer,col_indexer] = value instead\n",
      "\n",
      "See the caveats in the documentation: https://pandas.pydata.org/pandas-docs/stable/user_guide/indexing.html#returning-a-view-versus-a-copy\n",
      "  X[numeric_feats] = scaler.fit_transform(X[numeric_feats])\n"
     ]
    }
   ],
   "source": [
    "# 02-Feature-Engineering.ipynb\n",
    "import os\n",
    "import pandas as pd\n",
    "import numpy as np\n",
    "from sklearn.preprocessing import StandardScaler\n",
    "from sklearn.model_selection import train_test_split\n",
    "\n",
    "# 0) Create the folder for feature CSVs\n",
    "os.makedirs(\"data/features\", exist_ok=True)\n",
    "\n",
    "# 1) Load raw data\n",
    "df = pd.read_csv(\"data/raw/churn_data.csv\", parse_dates=[\"join_date\"])\n",
    "\n",
    "# 2) Outlier removal (IQR method on key numerics)\n",
    "num_cols = [\"tenure_days\", \"num_logins\", \"avg_session_min\", \"monthly_spend\"]\n",
    "df_clean = df.copy()\n",
    "for col in num_cols:\n",
    "    q1, q3 = df_clean[col].quantile([0.25, 0.75])\n",
    "    iqr    = q3 - q1\n",
    "    lower, upper = q1 - 1.5*iqr, q3 + 1.5*iqr\n",
    "    df_clean = df_clean[(df_clean[col] >= lower) & (df_clean[col] <= upper)]\n",
    "print(f\"Rows before/after outlier removal: {len(df)} → {len(df_clean)}\")\n",
    "\n",
    "# 3) Feature creation\n",
    "# 3a) Tenure in months\n",
    "df_clean[\"tenure_months\"] = (df_clean[\"tenure_days\"] / 30).round(1)\n",
    "\n",
    "# 3b) Simulate last_login & compute recency\n",
    "np.random.seed(42)\n",
    "df_clean[\"last_login\"] = (\n",
    "    pd.to_datetime(df_clean[\"join_date\"])\n",
    "    + pd.to_timedelta(\n",
    "        np.random.randint(0, df_clean[\"tenure_days\"], size=len(df_clean)),\n",
    "        unit=\"D\"\n",
    "    )\n",
    ")\n",
    "df_clean[\"recency_days\"] = (pd.Timestamp.now().normalize() - df_clean[\"last_login\"]).dt.days\n",
    "\n",
    "# 3c) Total spend over tenure\n",
    "df_clean[\"monetary_total\"] = (df_clean[\"monthly_spend\"] * df_clean[\"tenure_months\"]).round(2)\n",
    "\n",
    "# 3d) Age buckets\n",
    "df_clean[\"age_bin\"] = pd.cut(\n",
    "    df_clean[\"age\"],\n",
    "    bins=[17, 25, 35, 50, 70],\n",
    "    labels=[\"18-25\",\"26-35\",\"36-50\",\"51-70\"]\n",
    ")\n",
    "\n",
    "# 4) One-hot encode categorical features\n",
    "df_feat = pd.get_dummies(\n",
    "    df_clean,\n",
    "    columns=[\"gender\", \"age_bin\"],\n",
    "    drop_first=True\n",
    ")\n",
    "\n",
    "# 5) Select & scale features\n",
    "numeric_feats = [\"tenure_months\", \"recency_days\", \"num_logins\", \"avg_session_min\", \"monetary_total\"]\n",
    "cat_feats     = [c for c in df_feat.columns if c.startswith(\"gender_\") or c.startswith(\"age_bin_\")]\n",
    "\n",
    "feature_cols = numeric_feats + cat_feats\n",
    "X = df_feat[feature_cols]\n",
    "y = df_feat[\"churn\"]\n",
    "\n",
    "scaler = StandardScaler()\n",
    "X[numeric_feats] = scaler.fit_transform(X[numeric_feats])\n",
    "\n",
    "# 6) Train/test split (stratified)\n",
    "X_train, X_test, y_train, y_test = train_test_split(\n",
    "    X, y,\n",
    "    test_size=0.2,\n",
    "    random_state=42,\n",
    "    stratify=y\n",
    ")\n",
    "\n",
    "# 7) Persist to CSV for modeling\n",
    "X_train.to_csv(\"data/features/X_train.csv\", index=False)\n",
    "X_test .to_csv(\"data/features/X_test.csv\",  index=False)\n",
    "y_train.to_csv(\"data/features/y_train.csv\", index=False)\n",
    "y_test .to_csv(\"data/features/y_test.csv\",  index=False)\n",
    "\n",
    "print(\"✅ Saved feature files to data/features/\")\n"
   ]
  },
  {
   "cell_type": "code",
   "execution_count": null,
   "id": "53a889e5-dff4-4660-88a7-a0c7a7e72a3a",
   "metadata": {},
   "outputs": [],
   "source": []
  }
 ],
 "metadata": {
  "kernelspec": {
   "display_name": "Python [conda env:base] *",
   "language": "python",
   "name": "conda-base-py"
  },
  "language_info": {
   "codemirror_mode": {
    "name": "ipython",
    "version": 3
   },
   "file_extension": ".py",
   "mimetype": "text/x-python",
   "name": "python",
   "nbconvert_exporter": "python",
   "pygments_lexer": "ipython3",
   "version": "3.12.7"
  }
 },
 "nbformat": 4,
 "nbformat_minor": 5
}
