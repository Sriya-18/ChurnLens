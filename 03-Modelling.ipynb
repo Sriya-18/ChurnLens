{
 "cells": [
  {
   "cell_type": "code",
   "execution_count": 1,
   "id": "89bccc46-347d-4777-ba84-9bf4367c1a63",
   "metadata": {},
   "outputs": [
    {
     "name": "stdout",
     "output_type": "stream",
     "text": [
      "Train ROC AUC: 0.833\n",
      " Test ROC AUC: 0.825\n",
      "\n",
      "Test Classification Report:\n",
      "              precision    recall  f1-score   support\n",
      "\n",
      "           0       0.93      1.00      0.96        92\n",
      "           1       0.00      0.00      0.00         7\n",
      "\n",
      "    accuracy                           0.93        99\n",
      "   macro avg       0.46      0.50      0.48        99\n",
      "weighted avg       0.86      0.93      0.90        99\n",
      "\n",
      "Test Confusion Matrix:\n",
      "[[92  0]\n",
      " [ 7  0]]\n"
     ]
    },
    {
     "name": "stderr",
     "output_type": "stream",
     "text": [
      "/opt/anaconda3/lib/python3.12/site-packages/sklearn/metrics/_classification.py:1531: UndefinedMetricWarning: Precision is ill-defined and being set to 0.0 in labels with no predicted samples. Use `zero_division` parameter to control this behavior.\n",
      "  _warn_prf(average, modifier, f\"{metric.capitalize()} is\", len(result))\n",
      "/opt/anaconda3/lib/python3.12/site-packages/sklearn/metrics/_classification.py:1531: UndefinedMetricWarning: Precision is ill-defined and being set to 0.0 in labels with no predicted samples. Use `zero_division` parameter to control this behavior.\n",
      "  _warn_prf(average, modifier, f\"{metric.capitalize()} is\", len(result))\n",
      "/opt/anaconda3/lib/python3.12/site-packages/sklearn/metrics/_classification.py:1531: UndefinedMetricWarning: Precision is ill-defined and being set to 0.0 in labels with no predicted samples. Use `zero_division` parameter to control this behavior.\n",
      "  _warn_prf(average, modifier, f\"{metric.capitalize()} is\", len(result))\n"
     ]
    },
    {
     "name": "stdout",
     "output_type": "stream",
     "text": [
      "Best C: {'C': 0.1}\n",
      "✅ Saved churn_model.pkl\n"
     ]
    }
   ],
   "source": [
    "# 03-Modeling.ipynb\n",
    "\n",
    "import os\n",
    "import pandas as pd\n",
    "import joblib\n",
    "from sklearn.linear_model import LogisticRegression\n",
    "from sklearn.metrics import roc_auc_score, classification_report, confusion_matrix\n",
    "from sklearn.model_selection import GridSearchCV\n",
    "\n",
    "# 1) Make sure the models folder exists\n",
    "os.makedirs(\"models\", exist_ok=True)\n",
    "\n",
    "# 2) Load your train/test feature CSVs\n",
    "X_train = pd.read_csv(\"data/features/X_train.csv\")\n",
    "X_test  = pd.read_csv(\"data/features/X_test.csv\")\n",
    "y_train = pd.read_csv(\"data/features/y_train.csv\").squeeze()\n",
    "y_test  = pd.read_csv(\"data/features/y_test.csv\").squeeze()\n",
    "\n",
    "# 3) Fit a baseline Logistic Regression\n",
    "model = LogisticRegression(max_iter=1000, random_state=42)\n",
    "model.fit(X_train, y_train)\n",
    "\n",
    "# 4) Evaluate on train & test\n",
    "y_train_proba = model.predict_proba(X_train)[:,1]\n",
    "y_test_proba  = model.predict_proba(X_test) [:,1]\n",
    "y_test_pred   = model.predict(X_test)\n",
    "\n",
    "print(\"Train ROC AUC:\", roc_auc_score(y_train, y_train_proba).round(3))\n",
    "print(\" Test ROC AUC:\", roc_auc_score(y_test,  y_test_proba).round(3))\n",
    "\n",
    "print(\"\\nTest Classification Report:\")\n",
    "print(classification_report(y_test, y_test_pred))\n",
    "\n",
    "print(\"Test Confusion Matrix:\")\n",
    "print(confusion_matrix(y_test, y_test_pred))\n",
    "\n",
    "# 5) (Optional) Hyperparameter tuning for C\n",
    "param_grid = {\"C\": [0.01, 0.1, 1, 10]}\n",
    "grid = GridSearchCV(\n",
    "    LogisticRegression(max_iter=1000, random_state=42),\n",
    "    param_grid,\n",
    "    cv=5,\n",
    "    scoring=\"roc_auc\",\n",
    "    n_jobs=-1\n",
    ")\n",
    "grid.fit(X_train, y_train)\n",
    "print(\"Best C:\", grid.best_params_)\n",
    "\n",
    "# Use the best model if tuning\n",
    "best_model = grid.best_estimator_\n",
    "\n",
    "# 6) Save your final model & scaler\n",
    "joblib.dump(best_model, \"models/churn_model.pkl\")\n",
    "print(\"✅ Saved churn_model.pkl\")\n",
    "\n",
    "# If you also want to persist the scaler from your feature notebook,\n",
    "# be sure to reload or re-create it here. For example:\n",
    "# from sklearn.preprocessing import StandardScaler\n",
    "# scaler = StandardScaler().fit(pd.concat([X_train[numeric_feats], X_test[numeric_feats]]))\n",
    "# joblib.dump(scaler, \"models/scaler.pkl\")\n"
   ]
  },
  {
   "cell_type": "code",
   "execution_count": null,
   "id": "2270db7c-0493-4a20-9316-2c2924c2351b",
   "metadata": {},
   "outputs": [],
   "source": []
  }
 ],
 "metadata": {
  "kernelspec": {
   "display_name": "Python [conda env:base] *",
   "language": "python",
   "name": "conda-base-py"
  },
  "language_info": {
   "codemirror_mode": {
    "name": "ipython",
    "version": 3
   },
   "file_extension": ".py",
   "mimetype": "text/x-python",
   "name": "python",
   "nbconvert_exporter": "python",
   "pygments_lexer": "ipython3",
   "version": "3.12.7"
  }
 },
 "nbformat": 4,
 "nbformat_minor": 5
}
